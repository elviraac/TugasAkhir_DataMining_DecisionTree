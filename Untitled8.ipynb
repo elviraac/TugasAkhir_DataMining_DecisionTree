{
  "nbformat": 4,
  "nbformat_minor": 0,
  "metadata": {
    "colab": {
      "provenance": []
    },
    "kernelspec": {
      "name": "python3",
      "display_name": "Python 3"
    },
    "language_info": {
      "name": "python"
    }
  },
  "cells": [
    {
      "cell_type": "code",
      "execution_count": 12,
      "metadata": {
        "id": "ZMJnchOJYrJm"
      },
      "outputs": [],
      "source": [
        "import pandas as pd\n",
        "from sklearn.model_selection import train_test_split\n",
        "from sklearn.preprocessing import LabelEncoder\n",
        "from sklearn.tree import DecisionTreeClassifier\n",
        "from sklearn.metrics import accuracy_score, classification_report, confusion_matrix\n"
      ]
    },
    {
      "cell_type": "code",
      "source": [
        "salaryDataset = pd.read_csv('ds_salaries.csv')"
      ],
      "metadata": {
        "id": "VGgfkb_ebgm9"
      },
      "execution_count": 13,
      "outputs": []
    },
    {
      "cell_type": "code",
      "source": [
        "X = salaryDataset.drop('job_title', axis=1)\n",
        "y = salaryDataset['job_title']"
      ],
      "metadata": {
        "id": "mlpNM7zlcdfg"
      },
      "execution_count": 14,
      "outputs": []
    },
    {
      "cell_type": "code",
      "source": [
        "label_encoder = LabelEncoder()\n",
        "X['salary'] = label_encoder.fit_transform(X['salary'])\n",
        "X['work_year'] = label_encoder.fit_transform(X['work_year'])"
      ],
      "metadata": {
        "id": "zY-5hjObdRiT"
      },
      "execution_count": 15,
      "outputs": []
    },
    {
      "cell_type": "code",
      "source": [
        "X = X.drop(['experience_level', 'employment_type', 'salary_currency', 'salary_in_usd', 'employee_residence', 'remote_ratio', 'company_location', 'company_size'], axis=1)"
      ],
      "metadata": {
        "id": "uobbptekfB83"
      },
      "execution_count": 19,
      "outputs": []
    },
    {
      "cell_type": "code",
      "source": [
        "X_train, X_test, y_train, y_test = train_test_split(X, y, test_size=0.2, random_state=42)\n"
      ],
      "metadata": {
        "id": "e1Rrk8NTecK4"
      },
      "execution_count": 21,
      "outputs": []
    },
    {
      "cell_type": "code",
      "source": [
        "dt_model = DecisionTreeClassifier()"
      ],
      "metadata": {
        "id": "hJgU1SGZegTs"
      },
      "execution_count": 22,
      "outputs": []
    },
    {
      "cell_type": "code",
      "source": [
        "# Latih model dengan data latih\n",
        "dt_model.fit(X_train, y_train)\n"
      ],
      "metadata": {
        "colab": {
          "base_uri": "https://localhost:8080/",
          "height": 75
        },
        "id": "-2WbY5Rfeicr",
        "outputId": "5fb1ea6d-95bb-4e97-92ea-c2984630b67c"
      },
      "execution_count": 23,
      "outputs": [
        {
          "output_type": "execute_result",
          "data": {
            "text/plain": [
              "DecisionTreeClassifier()"
            ],
            "text/html": [
              "<style>#sk-container-id-1 {color: black;background-color: white;}#sk-container-id-1 pre{padding: 0;}#sk-container-id-1 div.sk-toggleable {background-color: white;}#sk-container-id-1 label.sk-toggleable__label {cursor: pointer;display: block;width: 100%;margin-bottom: 0;padding: 0.3em;box-sizing: border-box;text-align: center;}#sk-container-id-1 label.sk-toggleable__label-arrow:before {content: \"▸\";float: left;margin-right: 0.25em;color: #696969;}#sk-container-id-1 label.sk-toggleable__label-arrow:hover:before {color: black;}#sk-container-id-1 div.sk-estimator:hover label.sk-toggleable__label-arrow:before {color: black;}#sk-container-id-1 div.sk-toggleable__content {max-height: 0;max-width: 0;overflow: hidden;text-align: left;background-color: #f0f8ff;}#sk-container-id-1 div.sk-toggleable__content pre {margin: 0.2em;color: black;border-radius: 0.25em;background-color: #f0f8ff;}#sk-container-id-1 input.sk-toggleable__control:checked~div.sk-toggleable__content {max-height: 200px;max-width: 100%;overflow: auto;}#sk-container-id-1 input.sk-toggleable__control:checked~label.sk-toggleable__label-arrow:before {content: \"▾\";}#sk-container-id-1 div.sk-estimator input.sk-toggleable__control:checked~label.sk-toggleable__label {background-color: #d4ebff;}#sk-container-id-1 div.sk-label input.sk-toggleable__control:checked~label.sk-toggleable__label {background-color: #d4ebff;}#sk-container-id-1 input.sk-hidden--visually {border: 0;clip: rect(1px 1px 1px 1px);clip: rect(1px, 1px, 1px, 1px);height: 1px;margin: -1px;overflow: hidden;padding: 0;position: absolute;width: 1px;}#sk-container-id-1 div.sk-estimator {font-family: monospace;background-color: #f0f8ff;border: 1px dotted black;border-radius: 0.25em;box-sizing: border-box;margin-bottom: 0.5em;}#sk-container-id-1 div.sk-estimator:hover {background-color: #d4ebff;}#sk-container-id-1 div.sk-parallel-item::after {content: \"\";width: 100%;border-bottom: 1px solid gray;flex-grow: 1;}#sk-container-id-1 div.sk-label:hover label.sk-toggleable__label {background-color: #d4ebff;}#sk-container-id-1 div.sk-serial::before {content: \"\";position: absolute;border-left: 1px solid gray;box-sizing: border-box;top: 0;bottom: 0;left: 50%;z-index: 0;}#sk-container-id-1 div.sk-serial {display: flex;flex-direction: column;align-items: center;background-color: white;padding-right: 0.2em;padding-left: 0.2em;position: relative;}#sk-container-id-1 div.sk-item {position: relative;z-index: 1;}#sk-container-id-1 div.sk-parallel {display: flex;align-items: stretch;justify-content: center;background-color: white;position: relative;}#sk-container-id-1 div.sk-item::before, #sk-container-id-1 div.sk-parallel-item::before {content: \"\";position: absolute;border-left: 1px solid gray;box-sizing: border-box;top: 0;bottom: 0;left: 50%;z-index: -1;}#sk-container-id-1 div.sk-parallel-item {display: flex;flex-direction: column;z-index: 1;position: relative;background-color: white;}#sk-container-id-1 div.sk-parallel-item:first-child::after {align-self: flex-end;width: 50%;}#sk-container-id-1 div.sk-parallel-item:last-child::after {align-self: flex-start;width: 50%;}#sk-container-id-1 div.sk-parallel-item:only-child::after {width: 0;}#sk-container-id-1 div.sk-dashed-wrapped {border: 1px dashed gray;margin: 0 0.4em 0.5em 0.4em;box-sizing: border-box;padding-bottom: 0.4em;background-color: white;}#sk-container-id-1 div.sk-label label {font-family: monospace;font-weight: bold;display: inline-block;line-height: 1.2em;}#sk-container-id-1 div.sk-label-container {text-align: center;}#sk-container-id-1 div.sk-container {/* jupyter's `normalize.less` sets `[hidden] { display: none; }` but bootstrap.min.css set `[hidden] { display: none !important; }` so we also need the `!important` here to be able to override the default hidden behavior on the sphinx rendered scikit-learn.org. See: https://github.com/scikit-learn/scikit-learn/issues/21755 */display: inline-block !important;position: relative;}#sk-container-id-1 div.sk-text-repr-fallback {display: none;}</style><div id=\"sk-container-id-1\" class=\"sk-top-container\"><div class=\"sk-text-repr-fallback\"><pre>DecisionTreeClassifier()</pre><b>In a Jupyter environment, please rerun this cell to show the HTML representation or trust the notebook. <br />On GitHub, the HTML representation is unable to render, please try loading this page with nbviewer.org.</b></div><div class=\"sk-container\" hidden><div class=\"sk-item\"><div class=\"sk-estimator sk-toggleable\"><input class=\"sk-toggleable__control sk-hidden--visually\" id=\"sk-estimator-id-1\" type=\"checkbox\" checked><label for=\"sk-estimator-id-1\" class=\"sk-toggleable__label sk-toggleable__label-arrow\">DecisionTreeClassifier</label><div class=\"sk-toggleable__content\"><pre>DecisionTreeClassifier()</pre></div></div></div></div></div>"
            ]
          },
          "metadata": {},
          "execution_count": 23
        }
      ]
    },
    {
      "cell_type": "code",
      "source": [
        "y_pred = dt_model.predict(X_test)"
      ],
      "metadata": {
        "id": "89Vvdq6agQhB"
      },
      "execution_count": 24,
      "outputs": []
    },
    {
      "cell_type": "code",
      "source": [
        "accuracy = accuracy_score(y_test, y_pred)\n",
        "conf_matrix = confusion_matrix(y_test, y_pred)\n",
        "class_report = classification_report(y_test, y_pred)"
      ],
      "metadata": {
        "colab": {
          "base_uri": "https://localhost:8080/"
        },
        "id": "9oAKsaBbgTV_",
        "outputId": "87b2fb45-0a3b-4dd5-c524-3ee986661422"
      },
      "execution_count": 25,
      "outputs": [
        {
          "output_type": "stream",
          "name": "stderr",
          "text": [
            "/usr/local/lib/python3.10/dist-packages/sklearn/metrics/_classification.py:1344: UndefinedMetricWarning: Precision and F-score are ill-defined and being set to 0.0 in labels with no predicted samples. Use `zero_division` parameter to control this behavior.\n",
            "  _warn_prf(average, modifier, msg_start, len(result))\n",
            "/usr/local/lib/python3.10/dist-packages/sklearn/metrics/_classification.py:1344: UndefinedMetricWarning: Recall and F-score are ill-defined and being set to 0.0 in labels with no true samples. Use `zero_division` parameter to control this behavior.\n",
            "  _warn_prf(average, modifier, msg_start, len(result))\n",
            "/usr/local/lib/python3.10/dist-packages/sklearn/metrics/_classification.py:1344: UndefinedMetricWarning: Precision and F-score are ill-defined and being set to 0.0 in labels with no predicted samples. Use `zero_division` parameter to control this behavior.\n",
            "  _warn_prf(average, modifier, msg_start, len(result))\n",
            "/usr/local/lib/python3.10/dist-packages/sklearn/metrics/_classification.py:1344: UndefinedMetricWarning: Recall and F-score are ill-defined and being set to 0.0 in labels with no true samples. Use `zero_division` parameter to control this behavior.\n",
            "  _warn_prf(average, modifier, msg_start, len(result))\n",
            "/usr/local/lib/python3.10/dist-packages/sklearn/metrics/_classification.py:1344: UndefinedMetricWarning: Precision and F-score are ill-defined and being set to 0.0 in labels with no predicted samples. Use `zero_division` parameter to control this behavior.\n",
            "  _warn_prf(average, modifier, msg_start, len(result))\n",
            "/usr/local/lib/python3.10/dist-packages/sklearn/metrics/_classification.py:1344: UndefinedMetricWarning: Recall and F-score are ill-defined and being set to 0.0 in labels with no true samples. Use `zero_division` parameter to control this behavior.\n",
            "  _warn_prf(average, modifier, msg_start, len(result))\n"
          ]
        }
      ]
    },
    {
      "cell_type": "code",
      "source": [
        "print(\"Akurasi: {:.2f}%\".format(accuracy * 100))\n",
        "print(\"\\nConfusion Matrix:\")\n",
        "print(conf_matrix)\n",
        "print(\"\\nClassification Report:\")\n",
        "print(class_report)"
      ],
      "metadata": {
        "colab": {
          "base_uri": "https://localhost:8080/"
        },
        "id": "U-151TtwgVun",
        "outputId": "37a770de-4c06-41f0-f7d1-26b64239ef1d"
      },
      "execution_count": 26,
      "outputs": [
        {
          "output_type": "stream",
          "name": "stdout",
          "text": [
            "Akurasi: 36.88%\n",
            "\n",
            "Confusion Matrix:\n",
            "[[0 0 0 ... 0 0 0]\n",
            " [0 0 0 ... 0 0 0]\n",
            " [0 0 0 ... 0 0 0]\n",
            " ...\n",
            " [0 0 0 ... 0 1 0]\n",
            " [0 0 0 ... 0 0 0]\n",
            " [0 0 0 ... 0 0 0]]\n",
            "\n",
            "Classification Report:\n",
            "                                          precision    recall  f1-score   support\n",
            "\n",
            "           3D Computer Vision Researcher       0.00      0.00      0.00         1\n",
            "                            AI Developer       0.00      0.00      0.00         1\n",
            "                           AI Programmer       0.00      0.00      0.00         2\n",
            "                            AI Scientist       0.00      0.00      0.00         2\n",
            "                      Analytics Engineer       0.17      0.14      0.16        28\n",
            "                  Applied Data Scientist       0.00      0.00      0.00         4\n",
            "       Applied Machine Learning Engineer       0.00      0.00      0.00         1\n",
            "      Applied Machine Learning Scientist       0.00      0.00      0.00         2\n",
            "                       Applied Scientist       0.41      0.78      0.54         9\n",
            "           Autonomous Vehicle Technician       0.00      0.00      0.00         2\n",
            "                              BI Analyst       0.00      0.00      0.00         2\n",
            "                         BI Data Analyst       0.00      0.00      0.00         2\n",
            "                            BI Developer       0.00      0.00      0.00         5\n",
            "                      Big Data Architect       0.00      0.00      0.00         0\n",
            "                       Big Data Engineer       0.00      0.00      0.00         2\n",
            "                   Business Data Analyst       0.00      0.00      0.00         2\n",
            "          Business Intelligence Engineer       0.00      0.00      0.00         1\n",
            "                    Cloud Data Architect       0.00      0.00      0.00         0\n",
            "                     Cloud Data Engineer       0.00      0.00      0.00         0\n",
            "                 Cloud Database Engineer       0.00      0.00      0.00         1\n",
            "                Computer Vision Engineer       0.00      0.00      0.00         2\n",
            "       Computer Vision Software Engineer       0.00      0.00      0.00         1\n",
            "                            Data Analyst       0.40      0.49      0.44       140\n",
            "                 Data Analytics Engineer       0.00      0.00      0.00         1\n",
            "                  Data Analytics Manager       0.00      0.00      0.00         3\n",
            "                          Data Architect       0.24      0.38      0.29        16\n",
            "                           Data Engineer       0.38      0.56      0.45       194\n",
            "            Data Infrastructure Engineer       0.00      0.00      0.00         1\n",
            "                            Data Manager       0.00      0.00      0.00         7\n",
            "                 Data Operations Analyst       0.00      0.00      0.00         1\n",
            "                 Data Science Consultant       0.00      0.00      0.00         5\n",
            "                   Data Science Engineer       0.00      0.00      0.00         3\n",
            "                       Data Science Lead       0.00      0.00      0.00         1\n",
            "                    Data Science Manager       0.43      0.25      0.32        12\n",
            "                  Data Science Tech Lead       0.00      0.00      0.00         1\n",
            "                          Data Scientist       0.46      0.38      0.42       167\n",
            "                     Data Scientist Lead       0.00      0.00      0.00         1\n",
            "                         Data Specialist       0.00      0.00      0.00         4\n",
            "                         Data Strategist       0.00      0.00      0.00         2\n",
            "                  Deep Learning Engineer       0.00      0.00      0.00         2\n",
            "                Deep Learning Researcher       0.00      0.00      0.00         1\n",
            "                Director of Data Science       0.00      0.00      0.00         3\n",
            "                           ETL Developer       0.00      0.00      0.00         3\n",
            "                            ETL Engineer       0.00      0.00      0.00         1\n",
            "                  Financial Data Analyst       0.00      0.00      0.00         1\n",
            "                            Head of Data       1.00      0.50      0.67         2\n",
            "                    Head of Data Science       0.00      0.00      0.00         1\n",
            "                      Lead Data Engineer       0.00      0.00      0.00         2\n",
            "                     Lead Data Scientist       0.00      0.00      0.00         1\n",
            "                             ML Engineer       0.00      0.00      0.00         5\n",
            "                          MLOps Engineer       0.00      0.00      0.00         1\n",
            "              Machine Learning Developer       0.00      0.00      0.00         4\n",
            "               Machine Learning Engineer       0.54      0.27      0.36        55\n",
            "Machine Learning Infrastructure Engineer       0.00      0.00      0.00         2\n",
            "                Machine Learning Manager       0.00      0.00      0.00         2\n",
            "             Machine Learning Researcher       0.00      0.00      0.00         3\n",
            "              Machine Learning Scientist       0.50      0.17      0.25         6\n",
            "      Machine Learning Software Engineer       0.00      0.00      0.00         2\n",
            "                      Power BI Developer       0.00      0.00      0.00         1\n",
            "                Principal Data Scientist       0.00      0.00      0.00         1\n",
            "                    Product Data Analyst       0.00      0.00      0.00         1\n",
            "                  Product Data Scientist       0.00      0.00      0.00         1\n",
            "                       Research Engineer       0.00      0.00      0.00         8\n",
            "                      Research Scientist       0.00      0.00      0.00        12\n",
            "                      Staff Data Analyst       0.00      0.00      0.00         1\n",
            "\n",
            "                                accuracy                           0.37       751\n",
            "                               macro avg       0.07      0.06      0.06       751\n",
            "                            weighted avg       0.34      0.37      0.35       751\n",
            "\n"
          ]
        }
      ]
    }
  ]
}